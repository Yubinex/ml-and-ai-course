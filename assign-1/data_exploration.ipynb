{
 "cells": [
  {
   "cell_type": "code",
   "execution_count": null,
   "metadata": {},
   "outputs": [],
   "source": [
    "from netflix_data_reader import NetflixReader\n",
    "\n",
    "reader = NetflixReader()\n",
    "reader.read_netflix_data(file_path=\"./data/netflix_data.csv\")\n",
    "reader.preprocess()"
   ]
  },
  {
   "attachments": {},
   "cell_type": "markdown",
   "metadata": {},
   "source": [
    "### imdb_score and imdb_votes mean and standard deviation"
   ]
  },
  {
   "cell_type": "code",
   "execution_count": null,
   "metadata": {},
   "outputs": [],
   "source": [
    "print(f\"IMDB Score (mean): {reader.netflix_data['imdb_score'].mean()}\")\n",
    "print(f\"IMDB Score (std): {reader.netflix_data['imdb_score'].std()}\")\n",
    "print(f\"IMDB Votes (mean): {reader.netflix_data['imdb_votes'].mean()}\")\n",
    "print(f\"IMDB Votes (std): {reader.netflix_data['imdb_votes'].std()}\")"
   ]
  },
  {
   "cell_type": "code",
   "execution_count": null,
   "metadata": {},
   "outputs": [],
   "source": [
    "reader.netflix_data"
   ]
  },
  {
   "cell_type": "code",
   "execution_count": null,
   "metadata": {},
   "outputs": [],
   "source": [
    "import matplotlib.pyplot as plt"
   ]
  },
  {
   "cell_type": "code",
   "execution_count": null,
   "metadata": {},
   "outputs": [],
   "source": [
    "# create histogram of imdb_score\n",
    "plt.hist(reader.netflix_data['imdb_score'], bins=50, alpha=0.5, color='#8da0cb', edgecolor='#4a4a4a')\n",
    "plt.title('IMDB Score Distribution', fontsize=18, fontweight='bold')\n",
    "plt.xlabel('IMDB Score', fontsize=14, fontweight='bold')\n",
    "plt.ylabel('Frequency', fontsize=14, fontweight='bold')\n",
    "plt.xticks(fontsize=12)\n",
    "plt.yticks(fontsize=12)\n",
    "plt.grid(True, linestyle='--', alpha=0.5)\n",
    "plt.style.use('Solarize_Light2')\n",
    "plt.show()\n",
    "\n",
    "# create histogram of imdb_votes\n",
    "plt.hist(reader.netflix_data['imdb_votes'], bins=50, log=True, alpha=0.5, color='#8da0cb', edgecolor='#4a4a4a')\n",
    "plt.xlabel('IMDB Votes', fontsize=14, fontweight='bold')\n",
    "plt.ylabel('Frequency (log scale)', fontsize=14, fontweight='bold')\n",
    "plt.xticks(fontsize=12)\n",
    "# Rotate the x-axis labels for better readability\n",
    "plt.xticks(rotation=90)\n",
    "plt.yticks(fontsize=12)\n",
    "plt.grid(True, linestyle='--', alpha=0.5)\n",
    "plt.style.use('Solarize_Light2')\n",
    "plt.show()\n"
   ]
  },
  {
   "cell_type": "code",
   "execution_count": null,
   "metadata": {},
   "outputs": [],
   "source": [
    "# Scatter-Plot of imdb_score and release_year\n",
    "plt.scatter(reader.netflix_data['release_year'], reader.netflix_data['imdb_score'], alpha=0.3, color='b')\n",
    "plt.title('IMDB Score vs. Release Year')\n",
    "plt.xlabel('Release Year')\n",
    "plt.ylabel('IMDB Score')\n",
    "plt.grid(True, linestyle='--', alpha=0.5)\n",
    "plt.show()\n",
    "\n",
    "# Scatter-Plot of imdb_votes and release_year\n",
    "plt.scatter(reader.netflix_data['release_year'], reader.netflix_data['imdb_votes'], alpha=0.3, color='b')\n",
    "plt.title('IMDB Votes vs. Release Year')\n",
    "plt.xlabel('Release Year')\n",
    "plt.ylabel('IMDB Votes')\n",
    "plt.grid(True, linestyle='--', alpha=0.5)\n",
    "plt.show()\n"
   ]
  },
  {
   "cell_type": "code",
   "execution_count": null,
   "metadata": {},
   "outputs": [],
   "source": [
    "# Load data from the dataframe\n",
    "df = reader.netflix_data\n",
    "\n",
    "# Get the frequency of occurrence of each genre\n",
    "genre_freq = df.iloc[:, -19:].sum().sort_values(ascending=False)\n",
    "\n",
    "# Create a bar chart of the genre frequency\n",
    "plt.bar(genre_freq.index, genre_freq.values)\n",
    "\n",
    "# Set the axis labels and title\n",
    "plt.xlabel('Genre')\n",
    "plt.ylabel('Frequency')\n",
    "plt.title('Genre Frequency in Netflix Dataset')\n",
    "\n",
    "# Rotate the x-axis labels for better readability\n",
    "plt.xticks(rotation=90)\n",
    "\n",
    "# Show the plot\n",
    "plt.show()"
   ]
  },
  {
   "attachments": {},
   "cell_type": "markdown",
   "metadata": {},
   "source": [
    "### Box-Plot IMDB Score for genres"
   ]
  },
  {
   "cell_type": "code",
   "execution_count": null,
   "metadata": {},
   "outputs": [],
   "source": [
    "# TODO: General improvements\n",
    "\n",
    "import pandas as pd\n",
    "import matplotlib.pyplot as plt\n",
    "\n",
    "# read in the data\n",
    "df = reader.netflix_data\n",
    "\n",
    "# select only the columns for genres and IMDB scores\n",
    "df_genres = df.iloc[:, -19:]\n",
    "df_imdb = df['imdb_score']\n",
    "\n",
    "# create a new dataframe with the IMDB scores for each genre\n",
    "df_genre_scores = pd.concat([df_imdb, df_genres], axis=1)\n",
    "df_genre_scores = pd.melt(df_genre_scores, id_vars=['imdb_score'], var_name='genre', value_name='in_genre')\n",
    "\n",
    "# select only the rows where in_genre is True\n",
    "df_genre_scores = df_genre_scores[df_genre_scores['in_genre'] == True]\n",
    "\n",
    "# create the boxplot\n",
    "plt.figure(figsize=(10,6))\n",
    "plt.boxplot([df_genre_scores[df_genre_scores['genre'] == genre]['imdb_score'] for genre in df_genres.columns])\n",
    "plt.title('IMDB Scores by Genre')\n",
    "plt.xlabel('Genre')\n",
    "plt.ylabel('IMDB Score')\n",
    "plt.xticks(range(1, len(df_genres.columns) + 1), df_genres.columns, rotation=90)\n",
    "plt.show()\n"
   ]
  }
 ],
 "metadata": {
  "kernelspec": {
   "display_name": "base",
   "language": "python",
   "name": "python3"
  },
  "language_info": {
   "codemirror_mode": {
    "name": "ipython",
    "version": 3
   },
   "file_extension": ".py",
   "mimetype": "text/x-python",
   "name": "python",
   "nbconvert_exporter": "python",
   "pygments_lexer": "ipython3",
   "version": "3.10.9"
  },
  "orig_nbformat": 4
 },
 "nbformat": 4,
 "nbformat_minor": 2
}
