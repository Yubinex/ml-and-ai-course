{
 "cells": [
  {
   "cell_type": "code",
   "execution_count": 73,
   "metadata": {},
   "outputs": [],
   "source": [
    "import pandas as pd\n",
    "\n",
    "# Load the data into a DataFrame\n",
    "data = \"data/student_data.csv\"\n",
    "df = pd.read_csv(data)\n",
    "\n",
    "df['Graduate'] = df['Target'].apply(lambda x: 1 if x == 'Graduate' else 0)\n",
    "df['Enrolled'] = df['Target'].apply(lambda x: 1 if x == 'Enrolled' else 0)\n",
    "df['Dropout'] = df['Target'].apply(lambda x: 1 if x == 'Dropout' else 0)\n",
    "df = df.drop('Enrolled', axis=1)\n",
    "df = df.drop('Target', axis=1)\n",
    "\n",
    "# TODO: Remove all rows with \"Enrolled\" in Target column\n",
    "\n",
    "# Handle missing values\n",
    "df.fillna(df.mean(), inplace=True)\n",
    "\n",
    "# Convert categorical variables to numerical using one-hot encoding\n",
    "df = pd.get_dummies(df, columns=['Marital status'])\n",
    "\n",
    "# Split the data into features and target variables\n",
    "targets = df[['Graduate', 'Dropout']]\n",
    "student_train = df.drop(['Graduate', 'Dropout'], axis=1)\n",
    "\n",
    "# Normalize the feature variables using Z-score normalization\n",
    "student_train = (student_train - student_train.mean()) / student_train.std()\n",
    "\n",
    "# Save the preprocessed data to a file\n",
    "student_train.to_csv('output/student_train_preprocessed.csv', index=False)\n",
    "targets.to_csv('output/targets.csv', index=False)\n"
   ]
  },
  {
   "cell_type": "code",
   "execution_count": 74,
   "metadata": {},
   "outputs": [
    {
     "name": "stdout",
     "output_type": "stream",
     "text": [
      "Logistic Regression Accuracy (Graduate): 0.86\n",
      "Decision Tree Accuracy (Graduate): 0.8125\n",
      "Random Forest Accuracy (Graduate): 0.85625\n",
      "Logistic Regression Accuracy (Dropout): 0.8825\n",
      "Decision Tree Accuracy (Dropout): 0.8\n",
      "Random Forest Accuracy (Dropout): 0.87\n"
     ]
    }
   ],
   "source": [
    "import pandas as pd\n",
    "from sklearn.model_selection import train_test_split\n",
    "from sklearn.linear_model import LogisticRegression\n",
    "from sklearn.tree import DecisionTreeClassifier\n",
    "from sklearn.ensemble import RandomForestClassifier\n",
    "\n",
    "# Load the preprocessed data\n",
    "student_train = pd.read_csv('output/student_train_preprocessed.csv')\n",
    "targets = pd.read_csv('output/targets.csv')\n",
    "\n",
    "# Split the data into training and test sets\n",
    "X_train, X_test, y_train_grad, y_test_grad, y_train_drop, y_test_drop = train_test_split(student_train, targets['Graduate'], targets['Dropout'], test_size=0.2, random_state=42)\n",
    "\n",
    "# Train Logistic Regression model for 'Graduate'\n",
    "logreg_model_grad = LogisticRegression()\n",
    "logreg_model_grad.fit(X_train, y_train_grad)\n",
    "\n",
    "# Train Decision Tree model for 'Graduate'\n",
    "dt_model_grad = DecisionTreeClassifier()\n",
    "dt_model_grad.fit(X_train, y_train_grad)\n",
    "\n",
    "# Train Random Forest model for 'Graduate'\n",
    "rf_model_grad = RandomForestClassifier()\n",
    "rf_model_grad.fit(X_train, y_train_grad)\n",
    "\n",
    "# Train Logistic Regression model for 'Dropout'\n",
    "logreg_model_drop = LogisticRegression()\n",
    "logreg_model_drop.fit(X_train, y_train_drop)\n",
    "\n",
    "# Train Decision Tree model for 'Dropout'\n",
    "dt_model_drop = DecisionTreeClassifier()\n",
    "dt_model_drop.fit(X_train, y_train_drop)\n",
    "\n",
    "# Train Random Forest model for 'Dropout'\n",
    "rf_model_drop = RandomForestClassifier()\n",
    "rf_model_drop.fit(X_train, y_train_drop)\n",
    "\n",
    "# Evaluate the models for 'Graduate'\n",
    "logreg_score_grad = logreg_model_grad.score(X_test, y_test_grad)\n",
    "dt_score_grad = dt_model_grad.score(X_test, y_test_grad)\n",
    "rf_score_grad = rf_model_grad.score(X_test, y_test_grad)\n",
    "\n",
    "# Evaluate the models for 'Dropout'\n",
    "logreg_score_drop = logreg_model_drop.score(X_test, y_test_drop)\n",
    "dt_score_drop = dt_model_drop.score(X_test, y_test_drop)\n",
    "rf_score_drop = rf_model_drop.score(X_test, y_test_drop)\n",
    "\n",
    "# Print the accuracy scores for 'Graduate'\n",
    "print(\"Logistic Regression Accuracy (Graduate):\", logreg_score_grad)\n",
    "print(\"Decision Tree Accuracy (Graduate):\", dt_score_grad)\n",
    "print(\"Random Forest Accuracy (Graduate):\", rf_score_grad)\n",
    "\n",
    "# Print the accuracy scores for 'Dropout'\n",
    "print(\"Logistic Regression Accuracy (Dropout):\", logreg_score_drop)\n",
    "print(\"Decision Tree Accuracy (Dropout):\", dt_score_drop)\n",
    "print(\"Random Forest Accuracy (Dropout):\", rf_score_drop)\n"
   ]
  },
  {
   "cell_type": "code",
   "execution_count": 75,
   "metadata": {},
   "outputs": [
    {
     "name": "stdout",
     "output_type": "stream",
     "text": [
      "0: 0.85875\n",
      "1: 0.84\n",
      "2: 0.8325\n",
      "3: 0.83375\n",
      "Mean: 0.84125\n",
      "std: 0.01049553476484167\n"
     ]
    }
   ],
   "source": [
    "from sklearn.model_selection import KFold\n",
    "from sklearn.model_selection import cross_val_score\n",
    "import numpy as np\n",
    "\n",
    "kf = KFold(n_splits=4, shuffle=True)\n",
    "scores = cross_val_score(logreg_model_grad, X_train, y_train_grad, cv=kf, scoring='accuracy')\n",
    "\n",
    "for i, score in enumerate(scores):\n",
    "    print(f\"{i}: {score}\")\n",
    "\n",
    "print(f\"Mean: {scores.mean()}\")\n",
    "print(f\"std: {np.std(scores)}\")"
   ]
  },
  {
   "cell_type": "code",
   "execution_count": 76,
   "metadata": {},
   "outputs": [
    {
     "data": {
      "text/plain": [
       "array([[345,  57],\n",
       "       [ 55, 343]], dtype=int64)"
      ]
     },
     "execution_count": 76,
     "metadata": {},
     "output_type": "execute_result"
    }
   ],
   "source": [
    "from sklearn.metrics import confusion_matrix\n",
    "\n",
    "y_pred = logreg_model_grad.predict(X_test);\n",
    "confusion_matrix(y_true=y_test_grad, y_pred=y_pred)"
   ]
  }
 ],
 "metadata": {
  "kernelspec": {
   "display_name": "base",
   "language": "python",
   "name": "python3"
  },
  "language_info": {
   "codemirror_mode": {
    "name": "ipython",
    "version": 3
   },
   "file_extension": ".py",
   "mimetype": "text/x-python",
   "name": "python",
   "nbconvert_exporter": "python",
   "pygments_lexer": "ipython3",
   "version": "3.10.9"
  },
  "orig_nbformat": 4
 },
 "nbformat": 4,
 "nbformat_minor": 2
}
